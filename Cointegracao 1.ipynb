{
 "cells": [
  {
   "cell_type": "markdown",
   "metadata": {},
   "source": [
    "# Guilherme Kinzel\n",
    "### Pair Trading - Básico\n",
    "\n",
    "Neste notebook faremos uma breve explicação matemática com programação em R para desmitificar o _pair trading_\n",
    "\n",
    "Versão: 28JUL2020\n",
    "\n",
    "Material de estudo"
   ]
  },
  {
   "cell_type": "markdown",
   "metadata": {},
   "source": [
    "### Tópicos\n",
    "\n",
    "* Breve explicação\n",
    "* Quais seriam os melhores candidatos à pair trading?\n",
    "* Cointegração\n",
    "* Cointegração vs Correlação\n",
    "* Indo a fundo - Matemática"
   ]
  },
  {
   "cell_type": "markdown",
   "metadata": {},
   "source": [
    "### Breve explicação\n",
    "\n",
    "_Pair trading_ é um \"arbitragem estatística\", onde há um desvio estatístico de preço entre dois ativos que pretendemos explorar e que em todos os casos se encaixa na cesta de _trading_ de reversão à média. Em essência, o pair trading é acompanhar o _spread_ (ou diferencial) entre dois ativos e qualquer desvio significativo desta é dado como uma oportunidade de _trading_.\n",
    "\n",
    "### Quais seriam os melhores candidatos à pair trading?\n",
    "\n",
    "Aqueles que fundamentalmente tenham alguma razão para terem o _spread_ constante, e você acredite que poderá explorar uma possível reversão à média/estacionaridade. \n",
    "\n",
    "**Exemplo**\n",
    "\n",
    "Um bom exemplo seria (Preço do Ouro) vs (Mina de Ouro). Qualquer desvio significativo do _spread_ como a (Mina de Ouro) subir muito e o (Preço do Ouro) cair muito seria algo intuitivamente estranho, pois: como a mina de ouro pode subir e o ouro não? Removendo variáveis discricionárias, é esperado que o _spread_ retorne à média, uma possível oportunidade de VENDER (Mina de Ouro) e COMPRAR (Preço do Ouro)."
   ]
  },
  {
   "cell_type": "markdown",
   "metadata": {},
   "source": [
    "## Cointegração"
   ]
  },
  {
   "cell_type": "markdown",
   "metadata": {},
   "source": [
    "Entretanto, precisamos de algo mais forte do que a intuição e análise de fundamentos para sabermos se o par é candidato para _trading_. Atualmente o teste mais comum para determinar se o par é bom ou não para _pair trading_ é a **cointegração**. Explicaremos com um exemplo:\n",
    "\n",
    "**Exemplo**\n",
    "\n",
    "Você sai com o seu cachorro com coleira para passear na rua. Ambos estão em _Random Walk_ (você decidiu sair com o cachorro após voltar do bar!), cada um vai para o caminho que quer. Quando você puxa o seu cachorro para próximo de si, é o **momento em que vocês dois estão cointegrados**. Perceba que a distância máxima entre você e o seu cachorro é limitada à extensão da coleira. Em termos de _trading_ a oportunidade é quando o cachorro está chegando próximo ao limite da coleira ou quando ele está muito próximo de você.\n",
    "\n"
   ]
  },
  {
   "attachments": {},
   "cell_type": "markdown",
   "metadata": {},
   "source": [
    "<img src=\"101016185-boy-walking-a-dog-on-the-leash.jpg\" width=\"200\" />"
   ]
  },
  {
   "cell_type": "markdown",
   "metadata": {},
   "source": [
    "## Cointegração vs Correlação\n",
    "\n",
    "**Correlação**: dois ativos (A e B) estão correlacionados quando A sobe e B sobe, ou vice-versa: quando A cai e B cai também.\n",
    "\n",
    "**Cointegração**: quando existe uma combinação linear estacionária de variáveis não estacionárias (A e B)\n",
    "\n",
    "É possível que A e B sejam correlacionados e não cointegrados, como também serem não correlacionados e cointegrados.\n"
   ]
  },
  {
   "cell_type": "code",
   "execution_count": 4,
   "metadata": {
    "scrolled": false
   },
   "outputs": [
    {
     "data": {
      "image/png": "[encoded data removed]",
      "text/plain": [
       "Plot with title \"Spread - cointegradas\""
      ]
     },
     "metadata": {},
     "output_type": "display_data"
    }
   ],
   "source": [
    "library(MASS)\n",
    "\n",
    "#Code largely copied from http://quant.stackexchange.com/questions/1027/how-are-correlation-and-cointegration-related\n",
    "\n",
    "set.seed(4)\n",
    "#The input data\n",
    "nsim <- 1000  #Number of data points\n",
    "mu_a <- 0.0002  #Mu_a growth rate for stock a\n",
    "sigma_a <- 0.010   #Sigma_a volatility for stock a\n",
    "mu_b <- 0.0005  #Mu_a growth rate for stock a\n",
    "sigma_b <- 0.005   #Sigma_a volatility for stock a\n",
    "corxy <- 0.8    #Correlation coeficient for xy\n",
    "\n",
    "#Calculate a correlated return series\n",
    "#Build the covariance matrix and generate the correlated random results\n",
    "covmat <- matrix(c(sigma_a^2, corxy*sigma_a*sigma_b, corxy*sigma_a*sigma_b, sigma_b^2), nrow=2)\n",
    "\n",
    "res <- mvrnorm(nsim, c(mu_a, mu_b), covmat)    #Calculate multivariate normal distribution\n",
    "\n",
    "path_a <- exp(cumsum(res[,1]))\n",
    "path_b <- exp(cumsum(res[,2]))\n",
    "spread <- path_a - path_b\n",
    "#Set the plotting area to a 2 by 1 grid\n",
    "par(mfrow = c(2, 2))\n",
    "#Plot the two price series that have correlated returns\n",
    "plot(path_a, main=paste0(\"Par correlacionados (corr=\",corxy,\")\"), ylab=\"Price\", type=\"l\", col=\"red\")\n",
    "lines(path_b, col=\"blue\")\n",
    "plot(spread, type=\"l\", main = \"Spread - correlacionadas\")\n",
    "abline(h=0, col = 'red',lty=2)\n",
    "\n",
    "\n",
    "##Cointegrated pair\n",
    "#The input data\n",
    "coea <- 0.0200    #Co-integration coefficient for x\n",
    "coeb <- 0.0200    #Co-integration coefficient for y\n",
    "\n",
    "#Generate the noise terms for x and y\n",
    "rana <- rnorm(nsim, mean=mu_a, sd=sigma_a) #White noise for a\n",
    "ranb <- rnorm(nsim, mean=mu_b, sd=sigma_b) #White noise for b\n",
    "\n",
    "#Generate the co-integrated series x and y\n",
    "a <- numeric(nsim)\n",
    "b <- numeric(nsim)\n",
    "a[1] <- 0\n",
    "b[1] <- 0\n",
    "for (i in 2:nsim) {\n",
    "  #Logic here is that is b>a then we add on the difference so that\n",
    "  #a starts to catch up with b, hence causing the spread to close\n",
    "  a[i] <- a[i-1] + (coea * (b[i-1] - a[i-1])) + rana[i-1]\n",
    "  b[i] <- b[i-1] + (coeb * (a[i-1] - b[i-1])) + ranb[i-1]\n",
    "}\n",
    "\n",
    "#Plot a and b as prices\n",
    "ylim <- range(exp(a), exp(b))\n",
    "path_a <- exp(a)\n",
    "path_b <- exp(b)\n",
    "spread <- path_a - path_b\n",
    "\n",
    "plot(path_a, ylim=ylim, type=\"l\", main=paste(\"Par Co-integrado (coea=\",coea,\",  coeb=\",coeb,\")\", sep=\"\"), ylab=\"Price\", col=\"red\")\n",
    "lines(path_b, col=\"blue\")\n",
    "\n",
    "plot(spread,type=\"l\", main = \"Spread - cointegradas\")\n",
    "abline(h=0, col = 'red',lty=2)"
   ]
  },
  {
   "cell_type": "markdown",
   "metadata": {},
   "source": [
    "O mais importante a se notar é nos gráficos do _spread_. Perceba que a média do _spread_ do cointegrado é bem próxima a zero."
   ]
  },
  {
   "cell_type": "markdown",
   "metadata": {},
   "source": [
    "## Indo a fundo - Matemática\n",
    "\n",
    "Obs.: a parte mais complexa será abordada num outro Notebook com a utilização de pacotes de cointegração.\n",
    "\n",
    "Vamos explorar cointegração com o movimento Browniano geométrico, também conhecido como geometric Brownian motion (GBM). O cerne da matemática abaixo é do valor esperado do _spread_ ser 0, ou:\n",
    "\n",
    "$E_t[\\Delta \\text{Spread}]=0$\n",
    "\n",
    "(em caso de dúvida, olhe os gráficos acima)\n",
    "\n",
    "Em termos de _trading_ a oportunidade seria quando $|\\Delta \\text{Spread}|$ está muito alto relativamente - estas que podem ser feitas com desvio-padrão ($\\sigma$).\n",
    "\n",
    "Para isto iremos nos desbruçar no cálculo de outras equações, segue:\n",
    "\n",
    "### Pensamento\n",
    "\n",
    "Dado que o preço da ação em $t+T$ é:\n",
    "\n",
    "$A_{t+T} = A_t + N(\\mu_a T, \\sigma_a \\sqrt{T})$\n",
    "\n",
    "Fazendo $\\Delta A = A_{t+T} - A_t$ e o intervalo entre $T$ e $t$, $\\Delta t = T-t$. \n",
    "\n",
    "$\\Delta A = N(\\mu_a \\Delta t, \\sigma_a \\sqrt{\\Delta t})$ (1)\n",
    "\n",
    "Usaremos valor esperado:\n",
    "\n",
    "$E_t[\\Delta A] = \\mu_a$\n",
    "\n",
    "Ou seja, o valor esperado de cada passo em $t$ é de $\\mu_a$. Em outras palavras, $A$ não é estacionário assumindo $\\mu_a \\neq 0$.\n",
    "\n",
    "**Indo mais a fundo na cointegração**\n",
    "\n",
    "A equação de spread de quantas ações de B para cada 1 de A é:\n",
    "\n",
    "$\\text{Spread} = A - n B$\n",
    "\n",
    "Faremos a diferença de spread para usarmos com o intervalo (1)\n",
    "\n",
    "$\\Delta \\text{Spread} = \\Delta A - n \\Delta B$\n",
    "\n",
    "$\\Delta \\text{Spread} = N(\\mu_a \\Delta t, \\sigma_a \\sqrt{\\Delta t})  - n \\Delta N(\\mu_b \\Delta t, \\sigma_b \\sqrt{\\Delta t})$\n",
    "\n",
    "Mas nós desejamos buscar as premissas de estacionaridade, ou seja quando $E_t[\\Delta \\text{Spread}]=0$. Calculando o valor esperado:\n",
    "\n",
    "$E_t[\\Delta \\text{Spread}] = \\mu_a - n \\mu_b$\n",
    "\n",
    "Para $E_t[\\Delta \\text{Spread}]=0$, fazemos:\n",
    "\n",
    "$\\mu_a - n \\mu_b = 0$\n",
    "\n",
    "$n = \\frac{\\mu_a}{\\mu_b}$\n",
    "\n",
    "Ou seja, é estacionário se assumirmos que $n$ se mantém constante."
   ]
  },
  {
   "cell_type": "markdown",
   "metadata": {},
   "source": [
    "## Créditos:\n",
    "\n",
    "http://www.eco.uc3m.es/~jgonzalo/teaching/EconometriaII/cointegration.htm\n",
    "\n",
    "http://gekkoquant.com/2012/10/21/statistical-arbitrage-correlation-vs-cointegration/"
   ]
  }
 ],
 "metadata": {
  "kernelspec": {
   "display_name": "R 3.5 Micro",
   "language": "R",
   "name": "ir35"
  },
  "language_info": {
   "codemirror_mode": "r",
   "file_extension": ".r",
   "mimetype": "text/x-r-source",
   "name": "R",
   "pygments_lexer": "r",
   "version": "3.5.3"
  }
 },
 "nbformat": 4,
 "nbformat_minor": 2
}
